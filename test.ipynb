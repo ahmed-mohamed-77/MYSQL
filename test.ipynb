{
 "cells": [
  {
   "cell_type": "code",
   "execution_count": 2,
   "metadata": {},
   "outputs": [],
   "source": [
    "import mysql.connector\n",
    "\n",
    "db = mysql.connector.connect(\n",
    "    host=\"localhost\",\n",
    "    user=\"root\",\n",
    "    password=\"1111\",\n",
    "    database=\"testdb\")\n",
    "cursor = db.cursor()"
   ]
  },
  {
   "cell_type": "code",
   "execution_count": 3,
   "metadata": {},
   "outputs": [
    {
     "name": "stdout",
     "output_type": "stream",
     "text": [
      "classicmodels\n",
      "hr\n",
      "information_schema\n",
      "mysql\n",
      "performance_schema\n",
      "sakila\n",
      "sys\n",
      "testdb\n",
      "world\n"
     ]
    }
   ],
   "source": [
    "show_database_query = \"SHOW DATABASES\"\n",
    "cursor.execute(show_database_query)\n",
    "result = cursor.fetchall()\n",
    "for database in result:\n",
    "    print(database[0])"
   ]
  },
  {
   "cell_type": "code",
   "execution_count": 4,
   "metadata": {},
   "outputs": [
    {
     "name": "stdout",
     "output_type": "stream",
     "text": [
      "Connected to testdb\n"
     ]
    }
   ],
   "source": [
    "try:\n",
    "    cursor.execute(\"USE testdb\")\n",
    "    print(\"Connected to testdb\")\n",
    "except mysql.connector.Error as e:\n",
    "    print(f\"Cannot Connect to testdb {e}\")"
   ]
  },
  {
   "cell_type": "code",
   "execution_count": 1,
   "metadata": {},
   "outputs": [
    {
     "name": "stdout",
     "output_type": "stream",
     "text": [
      "(1, 'ahmed', 'Data scientist', 2)\n",
      "(2, 'mohamed', 'accountant', 5)\n",
      "(3, 'yassien', 'Real Estate', 2)\n",
      "(4, 'ahmed', 'Data scientist', 2)\n",
      "(5, 'mohamed', 'accountant', 5)\n",
      "(6, 'yassien', 'Real Estate', 2)\n"
     ]
    }
   ],
   "source": [
    "import mysql.connector\n",
    "from typing import List, Tuple\n",
    "\n",
    "try:\n",
    "    db = mysql.connector.connect(\n",
    "        host=\"localhost\",\n",
    "        user=\"root\",\n",
    "        password=\"1111\",\n",
    "        database=\"testdb\")\n",
    "\n",
    "    cur = db.cursor()\n",
    "    cur.execute(\"USE testdb\")\n",
    "    \n",
    "    query = \"SELECT * FROM `student`\"\n",
    "    cur.execute(query)\n",
    "    student_table = cur.fetchall()\n",
    "    for student in student_table:\n",
    "        print(student)\n",
    "except mysql.connector.Error as error:\n",
    "    # Handle specific exceptions\n",
    "    if error.errno == mysql.connector.errorcode.ER_ACCESS_DENIED_ERROR:\n",
    "        print(\"Invalid credentials\")\n",
    "    elif error.errno == mysql.connector.errorcode.ER_BAD_DB_ERROR:\n",
    "        print(\"Database does not exist\")\n",
    "    else:\n",
    "        print(f\"Error: {error}\")\n",
    "\n",
    "finally:\n",
    "    # Close the cursor and connection\n",
    "    cur.close()\n",
    "    db.close()"
   ]
  },
  {
   "cell_type": "code",
   "execution_count": null,
   "metadata": {},
   "outputs": [],
   "source": []
  }
 ],
 "metadata": {
  "kernelspec": {
   "display_name": "mysql-conn",
   "language": "python",
   "name": "python3"
  },
  "language_info": {
   "codemirror_mode": {
    "name": "ipython",
    "version": 3
   },
   "file_extension": ".py",
   "mimetype": "text/x-python",
   "name": "python",
   "nbconvert_exporter": "python",
   "pygments_lexer": "ipython3",
   "version": "3.8.19"
  }
 },
 "nbformat": 4,
 "nbformat_minor": 2
}
